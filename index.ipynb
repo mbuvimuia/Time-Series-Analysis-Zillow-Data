{
 "cells": [
  {
   "cell_type": "markdown",
   "metadata": {},
   "source": [
    "* Group 5 - Joyce Njeri, Kenneth Kipkirui, Brian Bett, Innocent Mbuvi, Michelle Nyaanga\n",
    "* Instructor name: Nikita Njoroge"
   ]
  },
  {
   "cell_type": "markdown",
   "metadata": {},
   "source": [
    "# Business Understanding\n",
    "\n",
    "## Overview / Background \n",
    "The real estate market is experiencing unpredictable fluctuations in property prices. This makes it hard for prospective investors to make decisions while deciding on which properties to invest in.\n",
    "\n",
    "## Research Question\n",
    "The study aims to investigate : \n",
    "\n",
    "What are the top 5 best zip code areas for the American Properties Corportation to invest in?\n",
    "\n",
    "### Stakeholder\n",
    "The primary party involved in this project is **American Properties Corporation (APC)**, a real estate company. APC is a newcomer to the industry and is seeking accurate information regarding the performance of the real estate market over the years.  \n",
    "\n",
    "The subsequent groups within the organization are particularly invested in the results of the project:\n",
    " * Top_level Management\n",
    " * Real Estate Sales Managers\n",
    "\n",
    "\n",
    "# Problem Statement\n",
    "The real estate market is experiencing unpredictable fluctuations in property prices. This uncertainty makes it difficult for prospective investors to make informed decisions about investing in property. The company needs to find an informed way to decide on which properties to invest in.\n",
    "\n",
    "### Proposed Solution\n",
    "To better understand the factors that influence house sales and forecast future trends, a comprehensive analysis using a predictive timeseries model is required. This model will analyze historical data and will allow prospective investors, such as The American Properties Corporation to  make informed decisions on which properties to invest in.\n",
    "\n",
    "# Objectives\n",
    "\n",
    "1. To analyze the zillow housing dataset, identify key patterns, trends and relatioships in the data and yeild visualizations that will aid in data-driven decisions.\n",
    "\n",
    "1. To develop a predictive timeseries model that will forecast return on investment(ROI) of the various Zip codes.\n",
    "\n",
    "1. To provide recommendations on factors to consider in order invest in property.\n",
    "\n",
    "\n"
   ]
  },
  {
   "cell_type": "markdown",
   "metadata": {},
   "source": [
    "# Data Understanding \n",
    "\n",
    "## Data Sources\n",
    "\n",
    "This study makes use of the Zillow House data that is contained in a CSV file, \"zillow_data.csv\". "
   ]
  },
  {
   "cell_type": "code",
   "execution_count": 196,
   "metadata": {},
   "outputs": [],
   "source": [
    "#importing the necessary libraries\n",
    "import pandas as pd\n",
    "import matplotlib.pyplot as plt\n",
    "import numpy as np\n",
    "from sklearn.metrics import mean_squared_error as MSE\n",
    "from math import sqrt\n",
    "import warnings\n",
    "warnings.simplefilter('ignore')\n",
    "with warnings.catch_warnings():\n",
    "    warnings.filterwarnings(\"ignore\")\n",
    "plt.style.use('ggplot')\n",
    "%matplotlib inline\n",
    "#Time series analysis tools.\n",
    "from pandas.plotting import autocorrelation_plot\n",
    "from statsmodels.tsa.stattools import adfuller\n",
    "from statsmodels.tsa.seasonal import seasonal_decompose\n",
    "from statsmodels.tsa.statespace.sarimax import SARIMAX\n",
    "from statsmodels.graphics.tsaplots import plot_acf, plot_pacf"
   ]
  },
  {
   "cell_type": "code",
   "execution_count": 197,
   "metadata": {},
   "outputs": [
    {
     "data": {
      "text/html": [
       "<div>\n",
       "<style scoped>\n",
       "    .dataframe tbody tr th:only-of-type {\n",
       "        vertical-align: middle;\n",
       "    }\n",
       "\n",
       "    .dataframe tbody tr th {\n",
       "        vertical-align: top;\n",
       "    }\n",
       "\n",
       "    .dataframe thead th {\n",
       "        text-align: right;\n",
       "    }\n",
       "</style>\n",
       "<table border=\"1\" class=\"dataframe\">\n",
       "  <thead>\n",
       "    <tr style=\"text-align: right;\">\n",
       "      <th></th>\n",
       "      <th>RegionID</th>\n",
       "      <th>RegionName</th>\n",
       "      <th>City</th>\n",
       "      <th>State</th>\n",
       "      <th>Metro</th>\n",
       "      <th>CountyName</th>\n",
       "      <th>SizeRank</th>\n",
       "      <th>1996-04</th>\n",
       "      <th>1996-05</th>\n",
       "      <th>1996-06</th>\n",
       "      <th>...</th>\n",
       "      <th>2017-07</th>\n",
       "      <th>2017-08</th>\n",
       "      <th>2017-09</th>\n",
       "      <th>2017-10</th>\n",
       "      <th>2017-11</th>\n",
       "      <th>2017-12</th>\n",
       "      <th>2018-01</th>\n",
       "      <th>2018-02</th>\n",
       "      <th>2018-03</th>\n",
       "      <th>2018-04</th>\n",
       "    </tr>\n",
       "  </thead>\n",
       "  <tbody>\n",
       "    <tr>\n",
       "      <th>0</th>\n",
       "      <td>84654</td>\n",
       "      <td>60657</td>\n",
       "      <td>Chicago</td>\n",
       "      <td>IL</td>\n",
       "      <td>Chicago</td>\n",
       "      <td>Cook</td>\n",
       "      <td>1</td>\n",
       "      <td>334200.0</td>\n",
       "      <td>335400.0</td>\n",
       "      <td>336500.0</td>\n",
       "      <td>...</td>\n",
       "      <td>1005500</td>\n",
       "      <td>1007500</td>\n",
       "      <td>1007800</td>\n",
       "      <td>1009600</td>\n",
       "      <td>1013300</td>\n",
       "      <td>1018700</td>\n",
       "      <td>1024400</td>\n",
       "      <td>1030700</td>\n",
       "      <td>1033800</td>\n",
       "      <td>1030600</td>\n",
       "    </tr>\n",
       "    <tr>\n",
       "      <th>1</th>\n",
       "      <td>90668</td>\n",
       "      <td>75070</td>\n",
       "      <td>McKinney</td>\n",
       "      <td>TX</td>\n",
       "      <td>Dallas-Fort Worth</td>\n",
       "      <td>Collin</td>\n",
       "      <td>2</td>\n",
       "      <td>235700.0</td>\n",
       "      <td>236900.0</td>\n",
       "      <td>236700.0</td>\n",
       "      <td>...</td>\n",
       "      <td>308000</td>\n",
       "      <td>310000</td>\n",
       "      <td>312500</td>\n",
       "      <td>314100</td>\n",
       "      <td>315000</td>\n",
       "      <td>316600</td>\n",
       "      <td>318100</td>\n",
       "      <td>319600</td>\n",
       "      <td>321100</td>\n",
       "      <td>321800</td>\n",
       "    </tr>\n",
       "    <tr>\n",
       "      <th>2</th>\n",
       "      <td>91982</td>\n",
       "      <td>77494</td>\n",
       "      <td>Katy</td>\n",
       "      <td>TX</td>\n",
       "      <td>Houston</td>\n",
       "      <td>Harris</td>\n",
       "      <td>3</td>\n",
       "      <td>210400.0</td>\n",
       "      <td>212200.0</td>\n",
       "      <td>212200.0</td>\n",
       "      <td>...</td>\n",
       "      <td>321000</td>\n",
       "      <td>320600</td>\n",
       "      <td>320200</td>\n",
       "      <td>320400</td>\n",
       "      <td>320800</td>\n",
       "      <td>321200</td>\n",
       "      <td>321200</td>\n",
       "      <td>323000</td>\n",
       "      <td>326900</td>\n",
       "      <td>329900</td>\n",
       "    </tr>\n",
       "    <tr>\n",
       "      <th>3</th>\n",
       "      <td>84616</td>\n",
       "      <td>60614</td>\n",
       "      <td>Chicago</td>\n",
       "      <td>IL</td>\n",
       "      <td>Chicago</td>\n",
       "      <td>Cook</td>\n",
       "      <td>4</td>\n",
       "      <td>498100.0</td>\n",
       "      <td>500900.0</td>\n",
       "      <td>503100.0</td>\n",
       "      <td>...</td>\n",
       "      <td>1289800</td>\n",
       "      <td>1287700</td>\n",
       "      <td>1287400</td>\n",
       "      <td>1291500</td>\n",
       "      <td>1296600</td>\n",
       "      <td>1299000</td>\n",
       "      <td>1302700</td>\n",
       "      <td>1306400</td>\n",
       "      <td>1308500</td>\n",
       "      <td>1307000</td>\n",
       "    </tr>\n",
       "    <tr>\n",
       "      <th>4</th>\n",
       "      <td>93144</td>\n",
       "      <td>79936</td>\n",
       "      <td>El Paso</td>\n",
       "      <td>TX</td>\n",
       "      <td>El Paso</td>\n",
       "      <td>El Paso</td>\n",
       "      <td>5</td>\n",
       "      <td>77300.0</td>\n",
       "      <td>77300.0</td>\n",
       "      <td>77300.0</td>\n",
       "      <td>...</td>\n",
       "      <td>119100</td>\n",
       "      <td>119400</td>\n",
       "      <td>120000</td>\n",
       "      <td>120300</td>\n",
       "      <td>120300</td>\n",
       "      <td>120300</td>\n",
       "      <td>120300</td>\n",
       "      <td>120500</td>\n",
       "      <td>121000</td>\n",
       "      <td>121500</td>\n",
       "    </tr>\n",
       "  </tbody>\n",
       "</table>\n",
       "<p>5 rows × 272 columns</p>\n",
       "</div>"
      ],
      "text/plain": [
       "   RegionID  RegionName      City State              Metro CountyName  \\\n",
       "0     84654       60657   Chicago    IL            Chicago       Cook   \n",
       "1     90668       75070  McKinney    TX  Dallas-Fort Worth     Collin   \n",
       "2     91982       77494      Katy    TX            Houston     Harris   \n",
       "3     84616       60614   Chicago    IL            Chicago       Cook   \n",
       "4     93144       79936   El Paso    TX            El Paso    El Paso   \n",
       "\n",
       "   SizeRank   1996-04   1996-05   1996-06  ...  2017-07  2017-08  2017-09  \\\n",
       "0         1  334200.0  335400.0  336500.0  ...  1005500  1007500  1007800   \n",
       "1         2  235700.0  236900.0  236700.0  ...   308000   310000   312500   \n",
       "2         3  210400.0  212200.0  212200.0  ...   321000   320600   320200   \n",
       "3         4  498100.0  500900.0  503100.0  ...  1289800  1287700  1287400   \n",
       "4         5   77300.0   77300.0   77300.0  ...   119100   119400   120000   \n",
       "\n",
       "   2017-10  2017-11  2017-12  2018-01  2018-02  2018-03  2018-04  \n",
       "0  1009600  1013300  1018700  1024400  1030700  1033800  1030600  \n",
       "1   314100   315000   316600   318100   319600   321100   321800  \n",
       "2   320400   320800   321200   321200   323000   326900   329900  \n",
       "3  1291500  1296600  1299000  1302700  1306400  1308500  1307000  \n",
       "4   120300   120300   120300   120300   120500   121000   121500  \n",
       "\n",
       "[5 rows x 272 columns]"
      ]
     },
     "execution_count": 197,
     "metadata": {},
     "output_type": "execute_result"
    }
   ],
   "source": [
    "df = pd.read_csv(\"Data/zillow_data.csv\")\n",
    "df.head()"
   ]
  },
  {
   "cell_type": "code",
   "execution_count": 198,
   "metadata": {},
   "outputs": [
    {
     "data": {
      "text/plain": [
       "(14723, 272)"
      ]
     },
     "execution_count": 198,
     "metadata": {},
     "output_type": "execute_result"
    }
   ],
   "source": [
    "df.shape"
   ]
  },
  {
   "cell_type": "code",
   "execution_count": 199,
   "metadata": {},
   "outputs": [
    {
     "data": {
      "text/plain": [
       "Index(['RegionID', 'RegionName', 'City', 'State', 'Metro', 'CountyName',\n",
       "       'SizeRank', '1996-04', '1996-05', '1996-06',\n",
       "       ...\n",
       "       '2017-07', '2017-08', '2017-09', '2017-10', '2017-11', '2017-12',\n",
       "       '2018-01', '2018-02', '2018-03', '2018-04'],\n",
       "      dtype='object', length=272)"
      ]
     },
     "execution_count": 199,
     "metadata": {},
     "output_type": "execute_result"
    }
   ],
   "source": [
    "df.columns"
   ]
  },
  {
   "cell_type": "code",
   "execution_count": 200,
   "metadata": {},
   "outputs": [
    {
     "data": {
      "text/plain": [
       "RegionID       int64\n",
       "RegionName     int64\n",
       "City          object\n",
       "State         object\n",
       "Metro         object\n",
       "               ...  \n",
       "2017-12        int64\n",
       "2018-01        int64\n",
       "2018-02        int64\n",
       "2018-03        int64\n",
       "2018-04        int64\n",
       "Length: 272, dtype: object"
      ]
     },
     "execution_count": 200,
     "metadata": {},
     "output_type": "execute_result"
    }
   ],
   "source": [
    "df.dtypes"
   ]
  },
  {
   "cell_type": "markdown",
   "metadata": {},
   "source": [
    "## Feature Categories\n",
    "4 columns contain data in string format while the rest of the columns are in integer format. \n",
    "\n",
    "The timeseries values are stored in separate columns. \n",
    "Column 8 refers to the median housing sales values for April 1996, column 9 for May 1996, and so on. They are stored in wide format."
   ]
  },
  {
   "cell_type": "markdown",
   "metadata": {},
   "source": [
    "# Data Preparation"
   ]
  },
  {
   "cell_type": "markdown",
   "metadata": {},
   "source": [
    "## Data Cleaning"
   ]
  },
  {
   "cell_type": "markdown",
   "metadata": {},
   "source": [
    "In this stage the data undergoes cleaning and  preparation which involves checking for null values , dropping and renamimg columns and converting column names to date time"
   ]
  },
  {
   "cell_type": "markdown",
   "metadata": {},
   "source": [
    "### Converting column names to datetime"
   ]
  },
  {
   "cell_type": "code",
   "execution_count": 201,
   "metadata": {},
   "outputs": [],
   "source": [
    "#Converting column names to datetime\n",
    "def get_datetimes(df):\n",
    "    \"\"\"\n",
    "    Takes a dataframe:\n",
    "    returns only those column names that can be converted into datetime objects \n",
    "    as datetime objects.\n",
    "    NOTE number of returned columns may not match total number of columns in passed dataframe\n",
    "    \"\"\"\n",
    "    \n",
    "    return pd.to_datetime(df.columns.values[7:], format='%Y-%m')"
   ]
  },
  {
   "cell_type": "code",
   "execution_count": 202,
   "metadata": {},
   "outputs": [
    {
     "data": {
      "text/plain": [
       "DatetimeIndex(['1996-04-01', '1996-05-01', '1996-06-01', '1996-07-01',\n",
       "               '1996-08-01', '1996-09-01', '1996-10-01', '1996-11-01',\n",
       "               '1996-12-01', '1997-01-01',\n",
       "               ...\n",
       "               '2017-07-01', '2017-08-01', '2017-09-01', '2017-10-01',\n",
       "               '2017-11-01', '2017-12-01', '2018-01-01', '2018-02-01',\n",
       "               '2018-03-01', '2018-04-01'],\n",
       "              dtype='datetime64[ns]', length=265, freq=None)"
      ]
     },
     "execution_count": 202,
     "metadata": {},
     "output_type": "execute_result"
    }
   ],
   "source": [
    "get_datetimes(df)"
   ]
  },
  {
   "cell_type": "code",
   "execution_count": 203,
   "metadata": {},
   "outputs": [
    {
     "data": {
      "text/html": [
       "<div>\n",
       "<style scoped>\n",
       "    .dataframe tbody tr th:only-of-type {\n",
       "        vertical-align: middle;\n",
       "    }\n",
       "\n",
       "    .dataframe tbody tr th {\n",
       "        vertical-align: top;\n",
       "    }\n",
       "\n",
       "    .dataframe thead th {\n",
       "        text-align: right;\n",
       "    }\n",
       "</style>\n",
       "<table border=\"1\" class=\"dataframe\">\n",
       "  <thead>\n",
       "    <tr style=\"text-align: right;\">\n",
       "      <th></th>\n",
       "      <th>RegionID</th>\n",
       "      <th>RegionName</th>\n",
       "      <th>City</th>\n",
       "      <th>State</th>\n",
       "      <th>Metro</th>\n",
       "      <th>CountyName</th>\n",
       "      <th>SizeRank</th>\n",
       "      <th>1996-04</th>\n",
       "      <th>1996-05</th>\n",
       "      <th>1996-06</th>\n",
       "      <th>...</th>\n",
       "      <th>2017-07</th>\n",
       "      <th>2017-08</th>\n",
       "      <th>2017-09</th>\n",
       "      <th>2017-10</th>\n",
       "      <th>2017-11</th>\n",
       "      <th>2017-12</th>\n",
       "      <th>2018-01</th>\n",
       "      <th>2018-02</th>\n",
       "      <th>2018-03</th>\n",
       "      <th>2018-04</th>\n",
       "    </tr>\n",
       "  </thead>\n",
       "  <tbody>\n",
       "    <tr>\n",
       "      <th>0</th>\n",
       "      <td>84654</td>\n",
       "      <td>60657</td>\n",
       "      <td>Chicago</td>\n",
       "      <td>IL</td>\n",
       "      <td>Chicago</td>\n",
       "      <td>Cook</td>\n",
       "      <td>1</td>\n",
       "      <td>334200.0</td>\n",
       "      <td>335400.0</td>\n",
       "      <td>336500.0</td>\n",
       "      <td>...</td>\n",
       "      <td>1005500</td>\n",
       "      <td>1007500</td>\n",
       "      <td>1007800</td>\n",
       "      <td>1009600</td>\n",
       "      <td>1013300</td>\n",
       "      <td>1018700</td>\n",
       "      <td>1024400</td>\n",
       "      <td>1030700</td>\n",
       "      <td>1033800</td>\n",
       "      <td>1030600</td>\n",
       "    </tr>\n",
       "    <tr>\n",
       "      <th>1</th>\n",
       "      <td>90668</td>\n",
       "      <td>75070</td>\n",
       "      <td>McKinney</td>\n",
       "      <td>TX</td>\n",
       "      <td>Dallas-Fort Worth</td>\n",
       "      <td>Collin</td>\n",
       "      <td>2</td>\n",
       "      <td>235700.0</td>\n",
       "      <td>236900.0</td>\n",
       "      <td>236700.0</td>\n",
       "      <td>...</td>\n",
       "      <td>308000</td>\n",
       "      <td>310000</td>\n",
       "      <td>312500</td>\n",
       "      <td>314100</td>\n",
       "      <td>315000</td>\n",
       "      <td>316600</td>\n",
       "      <td>318100</td>\n",
       "      <td>319600</td>\n",
       "      <td>321100</td>\n",
       "      <td>321800</td>\n",
       "    </tr>\n",
       "    <tr>\n",
       "      <th>2</th>\n",
       "      <td>91982</td>\n",
       "      <td>77494</td>\n",
       "      <td>Katy</td>\n",
       "      <td>TX</td>\n",
       "      <td>Houston</td>\n",
       "      <td>Harris</td>\n",
       "      <td>3</td>\n",
       "      <td>210400.0</td>\n",
       "      <td>212200.0</td>\n",
       "      <td>212200.0</td>\n",
       "      <td>...</td>\n",
       "      <td>321000</td>\n",
       "      <td>320600</td>\n",
       "      <td>320200</td>\n",
       "      <td>320400</td>\n",
       "      <td>320800</td>\n",
       "      <td>321200</td>\n",
       "      <td>321200</td>\n",
       "      <td>323000</td>\n",
       "      <td>326900</td>\n",
       "      <td>329900</td>\n",
       "    </tr>\n",
       "    <tr>\n",
       "      <th>3</th>\n",
       "      <td>84616</td>\n",
       "      <td>60614</td>\n",
       "      <td>Chicago</td>\n",
       "      <td>IL</td>\n",
       "      <td>Chicago</td>\n",
       "      <td>Cook</td>\n",
       "      <td>4</td>\n",
       "      <td>498100.0</td>\n",
       "      <td>500900.0</td>\n",
       "      <td>503100.0</td>\n",
       "      <td>...</td>\n",
       "      <td>1289800</td>\n",
       "      <td>1287700</td>\n",
       "      <td>1287400</td>\n",
       "      <td>1291500</td>\n",
       "      <td>1296600</td>\n",
       "      <td>1299000</td>\n",
       "      <td>1302700</td>\n",
       "      <td>1306400</td>\n",
       "      <td>1308500</td>\n",
       "      <td>1307000</td>\n",
       "    </tr>\n",
       "    <tr>\n",
       "      <th>4</th>\n",
       "      <td>93144</td>\n",
       "      <td>79936</td>\n",
       "      <td>El Paso</td>\n",
       "      <td>TX</td>\n",
       "      <td>El Paso</td>\n",
       "      <td>El Paso</td>\n",
       "      <td>5</td>\n",
       "      <td>77300.0</td>\n",
       "      <td>77300.0</td>\n",
       "      <td>77300.0</td>\n",
       "      <td>...</td>\n",
       "      <td>119100</td>\n",
       "      <td>119400</td>\n",
       "      <td>120000</td>\n",
       "      <td>120300</td>\n",
       "      <td>120300</td>\n",
       "      <td>120300</td>\n",
       "      <td>120300</td>\n",
       "      <td>120500</td>\n",
       "      <td>121000</td>\n",
       "      <td>121500</td>\n",
       "    </tr>\n",
       "  </tbody>\n",
       "</table>\n",
       "<p>5 rows × 272 columns</p>\n",
       "</div>"
      ],
      "text/plain": [
       "   RegionID  RegionName      City State              Metro CountyName  \\\n",
       "0     84654       60657   Chicago    IL            Chicago       Cook   \n",
       "1     90668       75070  McKinney    TX  Dallas-Fort Worth     Collin   \n",
       "2     91982       77494      Katy    TX            Houston     Harris   \n",
       "3     84616       60614   Chicago    IL            Chicago       Cook   \n",
       "4     93144       79936   El Paso    TX            El Paso    El Paso   \n",
       "\n",
       "   SizeRank   1996-04   1996-05   1996-06  ...  2017-07  2017-08  2017-09  \\\n",
       "0         1  334200.0  335400.0  336500.0  ...  1005500  1007500  1007800   \n",
       "1         2  235700.0  236900.0  236700.0  ...   308000   310000   312500   \n",
       "2         3  210400.0  212200.0  212200.0  ...   321000   320600   320200   \n",
       "3         4  498100.0  500900.0  503100.0  ...  1289800  1287700  1287400   \n",
       "4         5   77300.0   77300.0   77300.0  ...   119100   119400   120000   \n",
       "\n",
       "   2017-10  2017-11  2017-12  2018-01  2018-02  2018-03  2018-04  \n",
       "0  1009600  1013300  1018700  1024400  1030700  1033800  1030600  \n",
       "1   314100   315000   316600   318100   319600   321100   321800  \n",
       "2   320400   320800   321200   321200   323000   326900   329900  \n",
       "3  1291500  1296600  1299000  1302700  1306400  1308500  1307000  \n",
       "4   120300   120300   120300   120300   120500   121000   121500  \n",
       "\n",
       "[5 rows x 272 columns]"
      ]
     },
     "execution_count": 203,
     "metadata": {},
     "output_type": "execute_result"
    }
   ],
   "source": [
    "df.head()"
   ]
  },
  {
   "cell_type": "markdown",
   "metadata": {},
   "source": [
    "### Checking for null values in the metro column"
   ]
  },
  {
   "cell_type": "code",
   "execution_count": 204,
   "metadata": {},
   "outputs": [
    {
     "data": {
      "text/plain": [
       "7.084154044691979"
      ]
     },
     "execution_count": 204,
     "metadata": {},
     "output_type": "execute_result"
    }
   ],
   "source": [
    "#confirm % of missing values \n",
    "df['Metro'].isna().sum()/len(df)*100"
   ]
  },
  {
   "cell_type": "code",
   "execution_count": 205,
   "metadata": {},
   "outputs": [],
   "source": [
    "#Drop the missing values in Metro columns\n",
    "df.dropna(subset=['Metro'], inplace=True)"
   ]
  },
  {
   "cell_type": "markdown",
   "metadata": {},
   "source": [
    " we observed that there are 220 columns containing missing values. Our primary focus is on addressing the 'Metro' column, which falls under categorical data. Out of the entire dataset comprising 14,723 rows, we found a total of 1043 missing values in the 'Metro' column.\n",
    "\n",
    "To provide context, these missing values account for 7% of the overall dataset. Consequently, we have made the decision to remove these rows, resulting in a reduction of the total number of rows to 13,680.\n",
    "\n",
    "Regarding the remaining 219 columns, all of which are date-related columns, we have chosen not to utilize forward or backward filling techniques in order to prevent any unintended data propagation."
   ]
  },
  {
   "cell_type": "markdown",
   "metadata": {},
   "source": [
    "### "
   ]
  },
  {
   "cell_type": "markdown",
   "metadata": {},
   "source": [
    "### Renaming Column 'RegionName'  & Dropping 'RegionID' "
   ]
  },
  {
   "cell_type": "code",
   "execution_count": 206,
   "metadata": {},
   "outputs": [],
   "source": [
    "#Renaming RegionName to ZipCode\n",
    "df= df.rename(columns={\"RegionName\": \"ZipCode\"})"
   ]
  },
  {
   "cell_type": "code",
   "execution_count": 207,
   "metadata": {},
   "outputs": [],
   "source": [
    "#RegionName\n",
    "df['ZipCode'] = df['ZipCode'].astype('category')"
   ]
  },
  {
   "cell_type": "code",
   "execution_count": 208,
   "metadata": {},
   "outputs": [],
   "source": [
    "#Drop irrelevant columns\n",
    "df.drop(['RegionID'], inplace=True,axis=1)"
   ]
  },
  {
   "cell_type": "code",
   "execution_count": 209,
   "metadata": {},
   "outputs": [
    {
     "name": "stdout",
     "output_type": "stream",
     "text": [
      "<class 'pandas.core.frame.DataFrame'>\n",
      "Int64Index: 13680 entries, 0 to 14722\n",
      "Columns: 271 entries, ZipCode to 2018-04\n",
      "dtypes: category(1), float64(219), int64(47), object(4)\n",
      "memory usage: 29.0+ MB\n"
     ]
    }
   ],
   "source": [
    "#confirm dataframe\n",
    "df.info()"
   ]
  },
  {
   "cell_type": "code",
   "execution_count": 210,
   "metadata": {},
   "outputs": [
    {
     "data": {
      "text/plain": [
       "1996-04    785\n",
       "1996-05    785\n",
       "1996-06    785\n",
       "1996-07    785\n",
       "1996-08    785\n",
       "          ... \n",
       "2014-02     50\n",
       "2014-03     50\n",
       "2014-04     50\n",
       "2014-05     50\n",
       "2014-06     50\n",
       "Length: 219, dtype: int64"
      ]
     },
     "execution_count": 210,
     "metadata": {},
     "output_type": "execute_result"
    }
   ],
   "source": [
    "#recheck values of missing values \n",
    "missing_counts = df.isnull().sum()\n",
    "columns_with_missing = missing_counts[missing_counts > 0]\n",
    "columns_with_missing"
   ]
  },
  {
   "cell_type": "markdown",
   "metadata": {},
   "source": [
    "## ZipCode selection"
   ]
  },
  {
   "cell_type": "markdown",
   "metadata": {},
   "source": [
    "### Ranking of the zipcodes"
   ]
  },
  {
   "cell_type": "code",
   "execution_count": 211,
   "metadata": {},
   "outputs": [
    {
     "name": "stdout",
     "output_type": "stream",
     "text": [
      "Size Rank 25% (1st quartile) cutoff value: 3429.75\n",
      "Amount of zipcodes: 3420\n"
     ]
    }
   ],
   "source": [
    "# Calculate the 25% cutoff value (1st quartile)\n",
    "sr_25 = df['SizeRank'].quantile(0.25)\n",
    "\n",
    "# Filter the dataframe for top 25% zip codes and maintain all columns\n",
    "zc_top25 = df[df['SizeRank'] < sr_25]\n",
    "\n",
    "print(f'Size Rank 25% (1st quartile) cutoff value: {sr_25}')\n",
    "print(f'Amount of zipcodes: {len(zc_top25)}')"
   ]
  },
  {
   "cell_type": "code",
   "execution_count": 212,
   "metadata": {},
   "outputs": [
    {
     "data": {
      "text/html": [
       "<div>\n",
       "<style scoped>\n",
       "    .dataframe tbody tr th:only-of-type {\n",
       "        vertical-align: middle;\n",
       "    }\n",
       "\n",
       "    .dataframe tbody tr th {\n",
       "        vertical-align: top;\n",
       "    }\n",
       "\n",
       "    .dataframe thead th {\n",
       "        text-align: right;\n",
       "    }\n",
       "</style>\n",
       "<table border=\"1\" class=\"dataframe\">\n",
       "  <thead>\n",
       "    <tr style=\"text-align: right;\">\n",
       "      <th></th>\n",
       "      <th>SizeRank</th>\n",
       "      <th>1996-04</th>\n",
       "      <th>1996-05</th>\n",
       "      <th>1996-06</th>\n",
       "      <th>1996-07</th>\n",
       "      <th>1996-08</th>\n",
       "      <th>1996-09</th>\n",
       "      <th>1996-10</th>\n",
       "      <th>1996-11</th>\n",
       "      <th>1996-12</th>\n",
       "      <th>...</th>\n",
       "      <th>2017-07</th>\n",
       "      <th>2017-08</th>\n",
       "      <th>2017-09</th>\n",
       "      <th>2017-10</th>\n",
       "      <th>2017-11</th>\n",
       "      <th>2017-12</th>\n",
       "      <th>2018-01</th>\n",
       "      <th>2018-02</th>\n",
       "      <th>2018-03</th>\n",
       "      <th>2018-04</th>\n",
       "    </tr>\n",
       "  </thead>\n",
       "  <tbody>\n",
       "    <tr>\n",
       "      <th>count</th>\n",
       "      <td>3420.000000</td>\n",
       "      <td>3.352000e+03</td>\n",
       "      <td>3.352000e+03</td>\n",
       "      <td>3.352000e+03</td>\n",
       "      <td>3.352000e+03</td>\n",
       "      <td>3.352000e+03</td>\n",
       "      <td>3.352000e+03</td>\n",
       "      <td>3.352000e+03</td>\n",
       "      <td>3.352000e+03</td>\n",
       "      <td>3.352000e+03</td>\n",
       "      <td>...</td>\n",
       "      <td>3.420000e+03</td>\n",
       "      <td>3.420000e+03</td>\n",
       "      <td>3.420000e+03</td>\n",
       "      <td>3.420000e+03</td>\n",
       "      <td>3.420000e+03</td>\n",
       "      <td>3.420000e+03</td>\n",
       "      <td>3.420000e+03</td>\n",
       "      <td>3.420000e+03</td>\n",
       "      <td>3.420000e+03</td>\n",
       "      <td>3.420000e+03</td>\n",
       "    </tr>\n",
       "    <tr>\n",
       "      <th>mean</th>\n",
       "      <td>1716.035965</td>\n",
       "      <td>1.341766e+05</td>\n",
       "      <td>1.342876e+05</td>\n",
       "      <td>1.344017e+05</td>\n",
       "      <td>1.345176e+05</td>\n",
       "      <td>1.346547e+05</td>\n",
       "      <td>1.348197e+05</td>\n",
       "      <td>1.350409e+05</td>\n",
       "      <td>1.353047e+05</td>\n",
       "      <td>1.356968e+05</td>\n",
       "      <td>...</td>\n",
       "      <td>3.577537e+05</td>\n",
       "      <td>3.599042e+05</td>\n",
       "      <td>3.622573e+05</td>\n",
       "      <td>3.646369e+05</td>\n",
       "      <td>3.667987e+05</td>\n",
       "      <td>3.690918e+05</td>\n",
       "      <td>3.715144e+05</td>\n",
       "      <td>3.739508e+05</td>\n",
       "      <td>3.766412e+05</td>\n",
       "      <td>3.784216e+05</td>\n",
       "    </tr>\n",
       "    <tr>\n",
       "      <th>std</th>\n",
       "      <td>989.505229</td>\n",
       "      <td>9.659336e+04</td>\n",
       "      <td>9.697595e+04</td>\n",
       "      <td>9.733910e+04</td>\n",
       "      <td>9.770240e+04</td>\n",
       "      <td>9.810229e+04</td>\n",
       "      <td>9.857567e+04</td>\n",
       "      <td>9.913697e+04</td>\n",
       "      <td>9.977054e+04</td>\n",
       "      <td>1.005014e+05</td>\n",
       "      <td>...</td>\n",
       "      <td>5.542335e+05</td>\n",
       "      <td>5.539177e+05</td>\n",
       "      <td>5.539229e+05</td>\n",
       "      <td>5.549442e+05</td>\n",
       "      <td>5.543869e+05</td>\n",
       "      <td>5.542422e+05</td>\n",
       "      <td>5.570150e+05</td>\n",
       "      <td>5.590417e+05</td>\n",
       "      <td>5.567036e+05</td>\n",
       "      <td>5.529246e+05</td>\n",
       "    </tr>\n",
       "    <tr>\n",
       "      <th>min</th>\n",
       "      <td>1.000000</td>\n",
       "      <td>2.710000e+04</td>\n",
       "      <td>2.710000e+04</td>\n",
       "      <td>2.710000e+04</td>\n",
       "      <td>2.710000e+04</td>\n",
       "      <td>2.710000e+04</td>\n",
       "      <td>2.720000e+04</td>\n",
       "      <td>2.710000e+04</td>\n",
       "      <td>2.710000e+04</td>\n",
       "      <td>2.710000e+04</td>\n",
       "      <td>...</td>\n",
       "      <td>3.270000e+04</td>\n",
       "      <td>3.350000e+04</td>\n",
       "      <td>3.440000e+04</td>\n",
       "      <td>3.520000e+04</td>\n",
       "      <td>3.600000e+04</td>\n",
       "      <td>3.730000e+04</td>\n",
       "      <td>3.880000e+04</td>\n",
       "      <td>4.000000e+04</td>\n",
       "      <td>4.090000e+04</td>\n",
       "      <td>4.090000e+04</td>\n",
       "    </tr>\n",
       "    <tr>\n",
       "      <th>25%</th>\n",
       "      <td>860.750000</td>\n",
       "      <td>8.550000e+04</td>\n",
       "      <td>8.567500e+04</td>\n",
       "      <td>8.587500e+04</td>\n",
       "      <td>8.600000e+04</td>\n",
       "      <td>8.610000e+04</td>\n",
       "      <td>8.630000e+04</td>\n",
       "      <td>8.650000e+04</td>\n",
       "      <td>8.657500e+04</td>\n",
       "      <td>8.680000e+04</td>\n",
       "      <td>...</td>\n",
       "      <td>1.624000e+05</td>\n",
       "      <td>1.634500e+05</td>\n",
       "      <td>1.646750e+05</td>\n",
       "      <td>1.655500e+05</td>\n",
       "      <td>1.668750e+05</td>\n",
       "      <td>1.678750e+05</td>\n",
       "      <td>1.691500e+05</td>\n",
       "      <td>1.699750e+05</td>\n",
       "      <td>1.709000e+05</td>\n",
       "      <td>1.715000e+05</td>\n",
       "    </tr>\n",
       "    <tr>\n",
       "      <th>50%</th>\n",
       "      <td>1716.500000</td>\n",
       "      <td>1.185000e+05</td>\n",
       "      <td>1.185000e+05</td>\n",
       "      <td>1.183000e+05</td>\n",
       "      <td>1.183000e+05</td>\n",
       "      <td>1.183500e+05</td>\n",
       "      <td>1.183500e+05</td>\n",
       "      <td>1.185500e+05</td>\n",
       "      <td>1.187000e+05</td>\n",
       "      <td>1.189000e+05</td>\n",
       "      <td>...</td>\n",
       "      <td>2.401500e+05</td>\n",
       "      <td>2.413000e+05</td>\n",
       "      <td>2.425500e+05</td>\n",
       "      <td>2.439000e+05</td>\n",
       "      <td>2.452000e+05</td>\n",
       "      <td>2.467000e+05</td>\n",
       "      <td>2.479000e+05</td>\n",
       "      <td>2.495000e+05</td>\n",
       "      <td>2.515500e+05</td>\n",
       "      <td>2.530500e+05</td>\n",
       "    </tr>\n",
       "    <tr>\n",
       "      <th>75%</th>\n",
       "      <td>2572.250000</td>\n",
       "      <td>1.593000e+05</td>\n",
       "      <td>1.593000e+05</td>\n",
       "      <td>1.590250e+05</td>\n",
       "      <td>1.587250e+05</td>\n",
       "      <td>1.588250e+05</td>\n",
       "      <td>1.588250e+05</td>\n",
       "      <td>1.589000e+05</td>\n",
       "      <td>1.589000e+05</td>\n",
       "      <td>1.592250e+05</td>\n",
       "      <td>...</td>\n",
       "      <td>3.892250e+05</td>\n",
       "      <td>3.903000e+05</td>\n",
       "      <td>3.929750e+05</td>\n",
       "      <td>3.953750e+05</td>\n",
       "      <td>3.971500e+05</td>\n",
       "      <td>3.978750e+05</td>\n",
       "      <td>3.993500e+05</td>\n",
       "      <td>4.022500e+05</td>\n",
       "      <td>4.070500e+05</td>\n",
       "      <td>4.104750e+05</td>\n",
       "    </tr>\n",
       "    <tr>\n",
       "      <th>max</th>\n",
       "      <td>3429.000000</td>\n",
       "      <td>3.676700e+06</td>\n",
       "      <td>3.704200e+06</td>\n",
       "      <td>3.729600e+06</td>\n",
       "      <td>3.754600e+06</td>\n",
       "      <td>3.781800e+06</td>\n",
       "      <td>3.813500e+06</td>\n",
       "      <td>3.849600e+06</td>\n",
       "      <td>3.888900e+06</td>\n",
       "      <td>3.928800e+06</td>\n",
       "      <td>...</td>\n",
       "      <td>1.888990e+07</td>\n",
       "      <td>1.870350e+07</td>\n",
       "      <td>1.860530e+07</td>\n",
       "      <td>1.856940e+07</td>\n",
       "      <td>1.842880e+07</td>\n",
       "      <td>1.830710e+07</td>\n",
       "      <td>1.836590e+07</td>\n",
       "      <td>1.853040e+07</td>\n",
       "      <td>1.833770e+07</td>\n",
       "      <td>1.789490e+07</td>\n",
       "    </tr>\n",
       "  </tbody>\n",
       "</table>\n",
       "<p>8 rows × 266 columns</p>\n",
       "</div>"
      ],
      "text/plain": [
       "          SizeRank       1996-04       1996-05       1996-06       1996-07  \\\n",
       "count  3420.000000  3.352000e+03  3.352000e+03  3.352000e+03  3.352000e+03   \n",
       "mean   1716.035965  1.341766e+05  1.342876e+05  1.344017e+05  1.345176e+05   \n",
       "std     989.505229  9.659336e+04  9.697595e+04  9.733910e+04  9.770240e+04   \n",
       "min       1.000000  2.710000e+04  2.710000e+04  2.710000e+04  2.710000e+04   \n",
       "25%     860.750000  8.550000e+04  8.567500e+04  8.587500e+04  8.600000e+04   \n",
       "50%    1716.500000  1.185000e+05  1.185000e+05  1.183000e+05  1.183000e+05   \n",
       "75%    2572.250000  1.593000e+05  1.593000e+05  1.590250e+05  1.587250e+05   \n",
       "max    3429.000000  3.676700e+06  3.704200e+06  3.729600e+06  3.754600e+06   \n",
       "\n",
       "            1996-08       1996-09       1996-10       1996-11       1996-12  \\\n",
       "count  3.352000e+03  3.352000e+03  3.352000e+03  3.352000e+03  3.352000e+03   \n",
       "mean   1.346547e+05  1.348197e+05  1.350409e+05  1.353047e+05  1.356968e+05   \n",
       "std    9.810229e+04  9.857567e+04  9.913697e+04  9.977054e+04  1.005014e+05   \n",
       "min    2.710000e+04  2.720000e+04  2.710000e+04  2.710000e+04  2.710000e+04   \n",
       "25%    8.610000e+04  8.630000e+04  8.650000e+04  8.657500e+04  8.680000e+04   \n",
       "50%    1.183500e+05  1.183500e+05  1.185500e+05  1.187000e+05  1.189000e+05   \n",
       "75%    1.588250e+05  1.588250e+05  1.589000e+05  1.589000e+05  1.592250e+05   \n",
       "max    3.781800e+06  3.813500e+06  3.849600e+06  3.888900e+06  3.928800e+06   \n",
       "\n",
       "       ...       2017-07       2017-08       2017-09       2017-10  \\\n",
       "count  ...  3.420000e+03  3.420000e+03  3.420000e+03  3.420000e+03   \n",
       "mean   ...  3.577537e+05  3.599042e+05  3.622573e+05  3.646369e+05   \n",
       "std    ...  5.542335e+05  5.539177e+05  5.539229e+05  5.549442e+05   \n",
       "min    ...  3.270000e+04  3.350000e+04  3.440000e+04  3.520000e+04   \n",
       "25%    ...  1.624000e+05  1.634500e+05  1.646750e+05  1.655500e+05   \n",
       "50%    ...  2.401500e+05  2.413000e+05  2.425500e+05  2.439000e+05   \n",
       "75%    ...  3.892250e+05  3.903000e+05  3.929750e+05  3.953750e+05   \n",
       "max    ...  1.888990e+07  1.870350e+07  1.860530e+07  1.856940e+07   \n",
       "\n",
       "            2017-11       2017-12       2018-01       2018-02       2018-03  \\\n",
       "count  3.420000e+03  3.420000e+03  3.420000e+03  3.420000e+03  3.420000e+03   \n",
       "mean   3.667987e+05  3.690918e+05  3.715144e+05  3.739508e+05  3.766412e+05   \n",
       "std    5.543869e+05  5.542422e+05  5.570150e+05  5.590417e+05  5.567036e+05   \n",
       "min    3.600000e+04  3.730000e+04  3.880000e+04  4.000000e+04  4.090000e+04   \n",
       "25%    1.668750e+05  1.678750e+05  1.691500e+05  1.699750e+05  1.709000e+05   \n",
       "50%    2.452000e+05  2.467000e+05  2.479000e+05  2.495000e+05  2.515500e+05   \n",
       "75%    3.971500e+05  3.978750e+05  3.993500e+05  4.022500e+05  4.070500e+05   \n",
       "max    1.842880e+07  1.830710e+07  1.836590e+07  1.853040e+07  1.833770e+07   \n",
       "\n",
       "            2018-04  \n",
       "count  3.420000e+03  \n",
       "mean   3.784216e+05  \n",
       "std    5.529246e+05  \n",
       "min    4.090000e+04  \n",
       "25%    1.715000e+05  \n",
       "50%    2.530500e+05  \n",
       "75%    4.104750e+05  \n",
       "max    1.789490e+07  \n",
       "\n",
       "[8 rows x 266 columns]"
      ]
     },
     "execution_count": 212,
     "metadata": {},
     "output_type": "execute_result"
    }
   ],
   "source": [
    "zc_top25.describe()"
   ]
  },
  {
   "cell_type": "markdown",
   "metadata": {},
   "source": [
    "We identify a subset of zip codes that fall within the top 25% based on the 'SizeRank' criterion. It can be noted that the cutt off point is 3429.75 and we end up with a total of 3420 zipcodes to work with.\n",
    "\n",
    "The lowest zipcode is 1 , while the maximum is 3429.\n",
    "\n",
    "Keep in mind: A zipcode with a lower value closer to 1 is regarded as a superior metric, where 1 represents the topmost ranking position."
   ]
  },
  {
   "cell_type": "markdown",
   "metadata": {},
   "source": [
    "### Calculating the Return on Investment, Standard deviation & CV\n",
    "\n",
    "In this step, we calculate the respective ROI, std , mean and CV for our df2 and also add additional columns to the dataframe.\n",
    "Each calculation analyzes real estate investment data for the different zip codes from 1996-04 to 2018-04.\n",
    "\n",
    "* df2['ROI'] indicates the percentage increase or decrease in value of a property per each zipcode over the duration.\n",
    "* df2['std'] represents the volatility or variability in property values for each zip code.\n",
    "* df2 ['mean'] calculates the historical average property value for each zip code over the duration.\n",
    "* df2['CV'] It assesses the risk and volatility of the investment."
   ]
  },
  {
   "cell_type": "code",
   "execution_count": 213,
   "metadata": {},
   "outputs": [
    {
     "data": {
      "text/html": [
       "<div>\n",
       "<style scoped>\n",
       "    .dataframe tbody tr th:only-of-type {\n",
       "        vertical-align: middle;\n",
       "    }\n",
       "\n",
       "    .dataframe tbody tr th {\n",
       "        vertical-align: top;\n",
       "    }\n",
       "\n",
       "    .dataframe thead th {\n",
       "        text-align: right;\n",
       "    }\n",
       "</style>\n",
       "<table border=\"1\" class=\"dataframe\">\n",
       "  <thead>\n",
       "    <tr style=\"text-align: right;\">\n",
       "      <th></th>\n",
       "      <th>ZipCode</th>\n",
       "      <th>std</th>\n",
       "      <th>mean</th>\n",
       "      <th>ROI</th>\n",
       "      <th>CV</th>\n",
       "    </tr>\n",
       "  </thead>\n",
       "  <tbody>\n",
       "    <tr>\n",
       "      <th>0</th>\n",
       "      <td>60657</td>\n",
       "      <td>190821.103965</td>\n",
       "      <td>743978.867925</td>\n",
       "      <td>2.083782</td>\n",
       "      <td>0.256487</td>\n",
       "    </tr>\n",
       "    <tr>\n",
       "      <th>1</th>\n",
       "      <td>75070</td>\n",
       "      <td>33537.101427</td>\n",
       "      <td>219655.849057</td>\n",
       "      <td>0.365295</td>\n",
       "      <td>0.152680</td>\n",
       "    </tr>\n",
       "    <tr>\n",
       "      <th>2</th>\n",
       "      <td>77494</td>\n",
       "      <td>37730.794353</td>\n",
       "      <td>262110.566038</td>\n",
       "      <td>0.567966</td>\n",
       "      <td>0.143950</td>\n",
       "    </tr>\n",
       "    <tr>\n",
       "      <th>3</th>\n",
       "      <td>60614</td>\n",
       "      <td>231225.944628</td>\n",
       "      <td>974139.245283</td>\n",
       "      <td>1.623971</td>\n",
       "      <td>0.237364</td>\n",
       "    </tr>\n",
       "    <tr>\n",
       "      <th>4</th>\n",
       "      <td>79936</td>\n",
       "      <td>18167.079218</td>\n",
       "      <td>101875.471698</td>\n",
       "      <td>0.571798</td>\n",
       "      <td>0.178326</td>\n",
       "    </tr>\n",
       "  </tbody>\n",
       "</table>\n",
       "</div>"
      ],
      "text/plain": [
       "  ZipCode            std           mean       ROI        CV\n",
       "0   60657  190821.103965  743978.867925  2.083782  0.256487\n",
       "1   75070   33537.101427  219655.849057  0.365295  0.152680\n",
       "2   77494   37730.794353  262110.566038  0.567966  0.143950\n",
       "3   60614  231225.944628  974139.245283  1.623971  0.237364\n",
       "4   79936   18167.079218  101875.471698  0.571798  0.178326"
      ]
     },
     "execution_count": 213,
     "metadata": {},
     "output_type": "execute_result"
    }
   ],
   "source": [
    "# Assuming istorical return on investment for 'zc_top25'\n",
    "zc_top25['ROI'] = (zc_top25['2018-04'] / zc_top25['1996-04']) - 1\n",
    "\n",
    "# Calculate standard deviation of monthly values for 'zc_top25'\n",
    "zc_top25['std'] = zc_top25.loc[:, '1996-04':'2018-04'].std(skipna=True, axis=1)\n",
    "\n",
    "# Calculate historical mean value for 'zc_top25'\n",
    "zc_top25['mean'] = zc_top25.loc[:, '1996-04':'2018-04'].mean(skipna=True, axis=1)\n",
    "\n",
    "# Calculate coefficient of variance for 'zc_top25'\n",
    "zc_top25['CV'] = zc_top25['std'] / zc_top25['mean']\n",
    "\n",
    "# Show calculated values\n",
    "zc_top25[['ZipCode', 'std', 'mean', 'ROI', 'CV']].head()"
   ]
  },
  {
   "cell_type": "code",
   "execution_count": 214,
   "metadata": {},
   "outputs": [
    {
     "name": "stdout",
     "output_type": "stream",
     "text": [
      "count    3420.000000\n",
      "mean        0.245763\n",
      "std         0.093069\n",
      "min         0.020461\n",
      "25%         0.170113\n",
      "50%         0.240001\n",
      "75%         0.315854\n",
      "max         0.697541\n",
      "Name: CV, dtype: float64\n",
      "\n",
      "CV upper limit: 0.20997290565687943\n",
      "\n",
      "Best 5 Zipcodes:\n"
     ]
    },
    {
     "data": {
      "text/html": [
       "<div>\n",
       "<style scoped>\n",
       "    .dataframe tbody tr th:only-of-type {\n",
       "        vertical-align: middle;\n",
       "    }\n",
       "\n",
       "    .dataframe tbody tr th {\n",
       "        vertical-align: top;\n",
       "    }\n",
       "\n",
       "    .dataframe thead th {\n",
       "        text-align: right;\n",
       "    }\n",
       "</style>\n",
       "<table border=\"1\" class=\"dataframe\">\n",
       "  <thead>\n",
       "    <tr style=\"text-align: right;\">\n",
       "      <th></th>\n",
       "      <th>ZipCode</th>\n",
       "      <th>ROI</th>\n",
       "      <th>CV</th>\n",
       "    </tr>\n",
       "  </thead>\n",
       "  <tbody>\n",
       "    <tr>\n",
       "      <th>3311</th>\n",
       "      <td>29611</td>\n",
       "      <td>1.753894</td>\n",
       "      <td>0.188013</td>\n",
       "    </tr>\n",
       "    <tr>\n",
       "      <th>1713</th>\n",
       "      <td>43065</td>\n",
       "      <td>1.736802</td>\n",
       "      <td>0.204892</td>\n",
       "    </tr>\n",
       "    <tr>\n",
       "      <th>2224</th>\n",
       "      <td>30033</td>\n",
       "      <td>1.699458</td>\n",
       "      <td>0.204701</td>\n",
       "    </tr>\n",
       "    <tr>\n",
       "      <th>1512</th>\n",
       "      <td>78414</td>\n",
       "      <td>1.666264</td>\n",
       "      <td>0.208588</td>\n",
       "    </tr>\n",
       "    <tr>\n",
       "      <th>779</th>\n",
       "      <td>29501</td>\n",
       "      <td>1.650823</td>\n",
       "      <td>0.193300</td>\n",
       "    </tr>\n",
       "  </tbody>\n",
       "</table>\n",
       "</div>"
      ],
      "text/plain": [
       "     ZipCode       ROI        CV\n",
       "3311   29611  1.753894  0.188013\n",
       "1713   43065  1.736802  0.204892\n",
       "2224   30033  1.699458  0.204701\n",
       "1512   78414  1.666264  0.208588\n",
       "779    29501  1.650823  0.193300"
      ]
     },
     "execution_count": 214,
     "metadata": {},
     "output_type": "execute_result"
    }
   ],
   "source": [
    "# Descriptive statistics of coefficients of variance for 'zc_top25'.\n",
    "print(zc_top25.CV.describe())\n",
    "\n",
    "# Define upper limit of CV according to risk profile for 'zc_top25'.\n",
    "upper_cv = zc_top25.CV.quantile(.4)\n",
    "print(f'\\nCV upper limit: {upper_cv}')\n",
    "\n",
    "# Get the 5 zipcodes with highest ROIs within the firm's risk profile for 'zc_top25'.\n",
    "zc_best5 = zc_top25[zc_top25['CV'] < upper_cv].sort_values('ROI', axis=0, ascending=False).head(5)\n",
    "\n",
    "print('\\nBest 5 Zipcodes:')\n",
    "zc_best5[['ZipCode', 'ROI', 'CV']]"
   ]
  },
  {
   "cell_type": "code",
   "execution_count": 215,
   "metadata": {},
   "outputs": [
    {
     "name": "stdout",
     "output_type": "stream",
     "text": [
      "     ZipCode            location\n",
      "3311   29611      Greenville, SC\n",
      "1713   43065          Powell, OH\n",
      "2224   30033   North Decatur, GA\n",
      "1512   78414  Corpus Christi, TX\n",
      "779    29501        Florence, SC\n"
     ]
    }
   ],
   "source": [
    "# Feature engineer a location column in the format \"City, State\"\n",
    "zc_best5['location'] = zc_best5['City'] + \", \" + zc_best5['State']\n",
    "\n",
    "# Extracting the best 5 zip codes and their corresponding location names\n",
    "best_5_zipcodes_with_location = zc_best5[['ZipCode','location']]\n",
    "print(best_5_zipcodes_with_location)"
   ]
  },
  {
   "cell_type": "markdown",
   "metadata": {},
   "source": [
    "The \"Best 5 Zipcodes\" section presents the top 5 zip codes namely: **Greenville SC: 29611, Powell OH: 43065, North Decatur, GA: 30033, Corpus Christi, TX: 78414 and Florence SC: 29501.** They have been identified as the prime investment locations offering highest Return on Investment (ROI) while adhering to the risk profile's CV upper limit.\n",
    "\n",
    "The **average** CV is approximately **0.2458**, which suggests a moderate level of variability relative to the mean.The CV **upper limit** based on the risk profile is approximately **0.21**. This limit helps define a threshold for selecting zip codes with acceptable levels of risk.\n",
    "\n",
    "For these **top 5** zip codes, the ROIs **range from 165.08% to 175.39%**, indicating substantial growth in median housing sales values over the specified time period.\n",
    "\n",
    "The corresponding CV values for these zip codes are below the predefined upper limit, which suggests that the level of variability in these zip codes is within an acceptable risk range."
   ]
  },
  {
   "cell_type": "markdown",
   "metadata": {},
   "source": [
    "### Assessing best_5_zipcodes' ROI over various time periods\n",
    "\n",
    "The goal is to assess how the investment has performed over different investment horizons for the best 5 zipcodes allowing us to assess the potential growth and trends in the median housing sales values.\n",
    "Different investment horizons will help us make informed decisions about investment strategies and timeframes."
   ]
  },
  {
   "cell_type": "code",
   "execution_count": 216,
   "metadata": {},
   "outputs": [],
   "source": [
    "## 5 year ROI\n",
    "zc_best5['ROI_allyr'] = round((zc_best5['2018-04'] - zc_best5['1996-04'])/ zc_best5['1996-04'],4)\n",
    "## 3 year ROI\n",
    "zc_best5['ROI_20yr'] = round((zc_best5['2018-04'] - zc_best5['1998-04'])/ zc_best5['1998-04'],4)\n",
    "\n",
    "zc_best5['ROI_10yr'] = round((zc_best5['2018-04'] - zc_best5['2008-04'])/ zc_best5['2008-04'],4)\n",
    "## 5 year ROI\n",
    "zc_best5['ROI_5yr'] = round((zc_best5['2018-04'] - zc_best5['2013-01'])/ zc_best5['2013-01'],4)\n",
    "## 3 year ROI\n",
    "zc_best5['ROI_3yr'] = round((zc_best5['2018-04'] - zc_best5['2015-01'])/ zc_best5['2015-01'],4)"
   ]
  },
  {
   "cell_type": "code",
   "execution_count": 217,
   "metadata": {},
   "outputs": [
    {
     "data": {
      "text/html": [
       "<div>\n",
       "<style scoped>\n",
       "    .dataframe tbody tr th:only-of-type {\n",
       "        vertical-align: middle;\n",
       "    }\n",
       "\n",
       "    .dataframe tbody tr th {\n",
       "        vertical-align: top;\n",
       "    }\n",
       "\n",
       "    .dataframe thead th {\n",
       "        text-align: right;\n",
       "    }\n",
       "</style>\n",
       "<table border=\"1\" class=\"dataframe\">\n",
       "  <thead>\n",
       "    <tr style=\"text-align: right;\">\n",
       "      <th></th>\n",
       "      <th>ZipCode</th>\n",
       "      <th>City</th>\n",
       "      <th>State</th>\n",
       "      <th>Metro</th>\n",
       "      <th>CountyName</th>\n",
       "      <th>SizeRank</th>\n",
       "      <th>1996-04</th>\n",
       "      <th>1996-05</th>\n",
       "      <th>1996-06</th>\n",
       "      <th>1996-07</th>\n",
       "      <th>...</th>\n",
       "      <th>ROI</th>\n",
       "      <th>std</th>\n",
       "      <th>mean</th>\n",
       "      <th>CV</th>\n",
       "      <th>location</th>\n",
       "      <th>ROI_allyr</th>\n",
       "      <th>ROI_20yr</th>\n",
       "      <th>ROI_10yr</th>\n",
       "      <th>ROI_5yr</th>\n",
       "      <th>ROI_3yr</th>\n",
       "    </tr>\n",
       "  </thead>\n",
       "  <tbody>\n",
       "    <tr>\n",
       "      <th>3311</th>\n",
       "      <td>29611</td>\n",
       "      <td>Greenville</td>\n",
       "      <td>SC</td>\n",
       "      <td>Greenville</td>\n",
       "      <td>Greenville</td>\n",
       "      <td>3312</td>\n",
       "      <td>32100.0</td>\n",
       "      <td>32200.0</td>\n",
       "      <td>32300.0</td>\n",
       "      <td>32300.0</td>\n",
       "      <td>...</td>\n",
       "      <td>1.753894</td>\n",
       "      <td>10614.728217</td>\n",
       "      <td>56457.358491</td>\n",
       "      <td>0.188013</td>\n",
       "      <td>Greenville, SC</td>\n",
       "      <td>1.7539</td>\n",
       "      <td>0.9776</td>\n",
       "      <td>0.3194</td>\n",
       "      <td>0.9601</td>\n",
       "      <td>0.6073</td>\n",
       "    </tr>\n",
       "    <tr>\n",
       "      <th>1713</th>\n",
       "      <td>43065</td>\n",
       "      <td>Powell</td>\n",
       "      <td>OH</td>\n",
       "      <td>Columbus</td>\n",
       "      <td>Delaware</td>\n",
       "      <td>1714</td>\n",
       "      <td>132600.0</td>\n",
       "      <td>132200.0</td>\n",
       "      <td>132100.0</td>\n",
       "      <td>132200.0</td>\n",
       "      <td>...</td>\n",
       "      <td>1.736802</td>\n",
       "      <td>54613.414789</td>\n",
       "      <td>266546.792453</td>\n",
       "      <td>0.204892</td>\n",
       "      <td>Powell, OH</td>\n",
       "      <td>1.7368</td>\n",
       "      <td>0.9755</td>\n",
       "      <td>0.2215</td>\n",
       "      <td>0.2851</td>\n",
       "      <td>0.1891</td>\n",
       "    </tr>\n",
       "    <tr>\n",
       "      <th>2224</th>\n",
       "      <td>30033</td>\n",
       "      <td>North Decatur</td>\n",
       "      <td>GA</td>\n",
       "      <td>Atlanta</td>\n",
       "      <td>Dekalb</td>\n",
       "      <td>2225</td>\n",
       "      <td>129100.0</td>\n",
       "      <td>129400.0</td>\n",
       "      <td>129900.0</td>\n",
       "      <td>130400.0</td>\n",
       "      <td>...</td>\n",
       "      <td>1.699458</td>\n",
       "      <td>47361.602304</td>\n",
       "      <td>231369.433962</td>\n",
       "      <td>0.204701</td>\n",
       "      <td>North Decatur, GA</td>\n",
       "      <td>1.6995</td>\n",
       "      <td>1.2778</td>\n",
       "      <td>0.3435</td>\n",
       "      <td>0.6270</td>\n",
       "      <td>0.3476</td>\n",
       "    </tr>\n",
       "    <tr>\n",
       "      <th>1512</th>\n",
       "      <td>78414</td>\n",
       "      <td>Corpus Christi</td>\n",
       "      <td>TX</td>\n",
       "      <td>Corpus Christi</td>\n",
       "      <td>Nueces</td>\n",
       "      <td>1513</td>\n",
       "      <td>82700.0</td>\n",
       "      <td>82700.0</td>\n",
       "      <td>82700.0</td>\n",
       "      <td>82700.0</td>\n",
       "      <td>...</td>\n",
       "      <td>1.666264</td>\n",
       "      <td>33868.487321</td>\n",
       "      <td>162370.566038</td>\n",
       "      <td>0.208588</td>\n",
       "      <td>Corpus Christi, TX</td>\n",
       "      <td>1.6663</td>\n",
       "      <td>0.8375</td>\n",
       "      <td>0.1951</td>\n",
       "      <td>0.2332</td>\n",
       "      <td>0.1279</td>\n",
       "    </tr>\n",
       "    <tr>\n",
       "      <th>779</th>\n",
       "      <td>29501</td>\n",
       "      <td>Florence</td>\n",
       "      <td>SC</td>\n",
       "      <td>Florence</td>\n",
       "      <td>Florence</td>\n",
       "      <td>780</td>\n",
       "      <td>54700.0</td>\n",
       "      <td>54100.0</td>\n",
       "      <td>53500.0</td>\n",
       "      <td>53000.0</td>\n",
       "      <td>...</td>\n",
       "      <td>1.650823</td>\n",
       "      <td>22923.200669</td>\n",
       "      <td>118588.679245</td>\n",
       "      <td>0.193300</td>\n",
       "      <td>Florence, SC</td>\n",
       "      <td>1.6508</td>\n",
       "      <td>0.9054</td>\n",
       "      <td>0.0853</td>\n",
       "      <td>0.1137</td>\n",
       "      <td>0.1120</td>\n",
       "    </tr>\n",
       "  </tbody>\n",
       "</table>\n",
       "<p>5 rows × 281 columns</p>\n",
       "</div>"
      ],
      "text/plain": [
       "     ZipCode            City State           Metro  CountyName  SizeRank  \\\n",
       "3311   29611      Greenville    SC      Greenville  Greenville      3312   \n",
       "1713   43065          Powell    OH        Columbus    Delaware      1714   \n",
       "2224   30033   North Decatur    GA         Atlanta      Dekalb      2225   \n",
       "1512   78414  Corpus Christi    TX  Corpus Christi      Nueces      1513   \n",
       "779    29501        Florence    SC        Florence    Florence       780   \n",
       "\n",
       "       1996-04   1996-05   1996-06   1996-07  ...       ROI           std  \\\n",
       "3311   32100.0   32200.0   32300.0   32300.0  ...  1.753894  10614.728217   \n",
       "1713  132600.0  132200.0  132100.0  132200.0  ...  1.736802  54613.414789   \n",
       "2224  129100.0  129400.0  129900.0  130400.0  ...  1.699458  47361.602304   \n",
       "1512   82700.0   82700.0   82700.0   82700.0  ...  1.666264  33868.487321   \n",
       "779    54700.0   54100.0   53500.0   53000.0  ...  1.650823  22923.200669   \n",
       "\n",
       "               mean        CV            location  ROI_allyr  ROI_20yr  \\\n",
       "3311   56457.358491  0.188013      Greenville, SC     1.7539    0.9776   \n",
       "1713  266546.792453  0.204892          Powell, OH     1.7368    0.9755   \n",
       "2224  231369.433962  0.204701   North Decatur, GA     1.6995    1.2778   \n",
       "1512  162370.566038  0.208588  Corpus Christi, TX     1.6663    0.8375   \n",
       "779   118588.679245  0.193300        Florence, SC     1.6508    0.9054   \n",
       "\n",
       "      ROI_10yr  ROI_5yr  ROI_3yr  \n",
       "3311    0.3194   0.9601   0.6073  \n",
       "1713    0.2215   0.2851   0.1891  \n",
       "2224    0.3435   0.6270   0.3476  \n",
       "1512    0.1951   0.2332   0.1279  \n",
       "779     0.0853   0.1137   0.1120  \n",
       "\n",
       "[5 rows x 281 columns]"
      ]
     },
     "execution_count": 217,
     "metadata": {},
     "output_type": "execute_result"
    }
   ],
   "source": [
    "#Print header of final data to be utilised\n",
    "zc_best5.head()"
   ]
  },
  {
   "cell_type": "code",
   "execution_count": 218,
   "metadata": {},
   "outputs": [
    {
     "data": {
      "text/html": [
       "<div>\n",
       "<style scoped>\n",
       "    .dataframe tbody tr th:only-of-type {\n",
       "        vertical-align: middle;\n",
       "    }\n",
       "\n",
       "    .dataframe tbody tr th {\n",
       "        vertical-align: top;\n",
       "    }\n",
       "\n",
       "    .dataframe thead th {\n",
       "        text-align: right;\n",
       "    }\n",
       "</style>\n",
       "<table border=\"1\" class=\"dataframe\">\n",
       "  <thead>\n",
       "    <tr style=\"text-align: right;\">\n",
       "      <th></th>\n",
       "      <th>ROI_allyr</th>\n",
       "      <th>ROI_20yr</th>\n",
       "      <th>ROI_10yr</th>\n",
       "      <th>ROI_5yr</th>\n",
       "      <th>ROI_3yr</th>\n",
       "    </tr>\n",
       "  </thead>\n",
       "  <tbody>\n",
       "    <tr>\n",
       "      <th>count</th>\n",
       "      <td>5.000000</td>\n",
       "      <td>5.000000</td>\n",
       "      <td>5.000000</td>\n",
       "      <td>5.000000</td>\n",
       "      <td>5.000000</td>\n",
       "    </tr>\n",
       "    <tr>\n",
       "      <th>mean</th>\n",
       "      <td>1.701460</td>\n",
       "      <td>0.994760</td>\n",
       "      <td>0.232960</td>\n",
       "      <td>0.443820</td>\n",
       "      <td>0.276780</td>\n",
       "    </tr>\n",
       "    <tr>\n",
       "      <th>std</th>\n",
       "      <td>0.044174</td>\n",
       "      <td>0.168444</td>\n",
       "      <td>0.103753</td>\n",
       "      <td>0.345916</td>\n",
       "      <td>0.206921</td>\n",
       "    </tr>\n",
       "    <tr>\n",
       "      <th>min</th>\n",
       "      <td>1.650800</td>\n",
       "      <td>0.837500</td>\n",
       "      <td>0.085300</td>\n",
       "      <td>0.113700</td>\n",
       "      <td>0.112000</td>\n",
       "    </tr>\n",
       "    <tr>\n",
       "      <th>25%</th>\n",
       "      <td>1.666300</td>\n",
       "      <td>0.905400</td>\n",
       "      <td>0.195100</td>\n",
       "      <td>0.233200</td>\n",
       "      <td>0.127900</td>\n",
       "    </tr>\n",
       "    <tr>\n",
       "      <th>50%</th>\n",
       "      <td>1.699500</td>\n",
       "      <td>0.975500</td>\n",
       "      <td>0.221500</td>\n",
       "      <td>0.285100</td>\n",
       "      <td>0.189100</td>\n",
       "    </tr>\n",
       "    <tr>\n",
       "      <th>75%</th>\n",
       "      <td>1.736800</td>\n",
       "      <td>0.977600</td>\n",
       "      <td>0.319400</td>\n",
       "      <td>0.627000</td>\n",
       "      <td>0.347600</td>\n",
       "    </tr>\n",
       "    <tr>\n",
       "      <th>max</th>\n",
       "      <td>1.753900</td>\n",
       "      <td>1.277800</td>\n",
       "      <td>0.343500</td>\n",
       "      <td>0.960100</td>\n",
       "      <td>0.607300</td>\n",
       "    </tr>\n",
       "  </tbody>\n",
       "</table>\n",
       "</div>"
      ],
      "text/plain": [
       "       ROI_allyr  ROI_20yr  ROI_10yr   ROI_5yr   ROI_3yr\n",
       "count   5.000000  5.000000  5.000000  5.000000  5.000000\n",
       "mean    1.701460  0.994760  0.232960  0.443820  0.276780\n",
       "std     0.044174  0.168444  0.103753  0.345916  0.206921\n",
       "min     1.650800  0.837500  0.085300  0.113700  0.112000\n",
       "25%     1.666300  0.905400  0.195100  0.233200  0.127900\n",
       "50%     1.699500  0.975500  0.221500  0.285100  0.189100\n",
       "75%     1.736800  0.977600  0.319400  0.627000  0.347600\n",
       "max     1.753900  1.277800  0.343500  0.960100  0.607300"
      ]
     },
     "execution_count": 218,
     "metadata": {},
     "output_type": "execute_result"
    }
   ],
   "source": [
    "#A summary statistic of our best 5 over periods of time\n",
    "zc_best5[['ZipCode', 'location', 'ROI_allyr', 'ROI_20yr',\n",
    "       'ROI_10yr', 'ROI_5yr', 'ROI_3yr']].describe()"
   ]
  },
  {
   "cell_type": "markdown",
   "metadata": {},
   "source": [
    "**ROI over 3-year Period (ROI_3yr):**\n",
    "\n",
    "- ZipCode 29611 in Greenville, SC, has an ROI of approximately 0.6073 over the last 3 years, indicating growth of around 60.73% during this period.\n",
    "- ZipCode 43065 in Powell, OH, has an ROI of approximately 0.1891 over the past 3 years, signifying growth of around 18.91%.\n",
    "- ZipCode 30033 in North Decatur, GA, has an ROI of approximately 0.3476 over 3 years, indicating growth of about 34.76%.\n",
    "- ZipCode 78414 in Corpus Christi, TX, has an ROI of approximately 0.1279 over the last 3 years, showing growth of about 12.79%.\n",
    "- ZipCode 29501 in Florence, SC, has an ROI of approximately 0.1120 over 3 years, reflecting growth of about 11.20%,\n",
    "\n",
    "**This suggests that the  Zipcodes experienced slow but steady growth in ROI short term.**\n",
    "\n",
    "\n",
    "**ROI over Entire 22-year Period (ROI_allyr):**\n",
    "\n",
    "- For ZipCode 29611 in Greenville, SC, the ROI over the entire 22-year period is approximately 1.7539, indicating a growth of about 175.39%. \n",
    "- For ZipCode 43065 in Powell, OH, the ROI over the same period is approximately 1.7368, reflecting a growth of about 173.68%. \n",
    "- For ZipCode 30033 in North Decatur, GA, the ROI is approximately 1.6995, signifying a growth of around 169.95%. This indicates substantial growth in the median housing sales value over the entire 22 years.\n",
    "- For ZipCode 78414 in Corpus Christi, TX, the ROI is approximately 1.6663, reflecting a growth of about 166.63%. \n",
    "- For ZipCode 29501 in Florence, SC, the ROI is approximately 1.6508, indicating a growth of around 165.08%.\n",
    "\n",
    "**This suggests that the Zipcodes experienced over 100% growth rate in ROI long term.**"
   ]
  },
  {
   "cell_type": "markdown",
   "metadata": {},
   "source": [
    "# 2 EDA AND VISUALIZATION"
   ]
  },
  {
   "cell_type": "markdown",
   "metadata": {},
   "source": [
    "2.1 Univariate analysis"
   ]
  },
  {
   "cell_type": "code",
   "execution_count": 220,
   "metadata": {},
   "outputs": [
    {
     "data": {
      "image/png": "[encoded data removed]",
      "text/plain": [
       "<Figure size 1152x864 with 1 Axes>"
      ]
     },
     "metadata": {
      "needs_background": "light"
     },
     "output_type": "display_data"
    }
   ],
   "source": [
    "# Calculating the average median house price for each state in April 2018\n",
    "location_price = zc_best5.groupby('location')['2018-04'].mean().sort_values()\n",
    "\n",
    "# Reset index for easier plotting with seaborn\n",
    "location_price = location_price.reset_index()\n",
    "\n",
    "# Plotting the average median house price by state for April 2018\n",
    "plt.figure(figsize=(16, 12))\n",
    "sns.barplot(x='2018-04', y='location', data=location_price, palette='Blues_d')\n",
    "plt.title('Average Median House Price by Location (April 2018)')\n",
    "plt.xlabel('Average Median House Price')\n",
    "plt.ylabel('Location')\n",
    "plt.grid(True, which=\"both\", linestyle=\"--\", color='0.65')\n",
    "plt.tight_layout()\n",
    "plt.show()"
   ]
  },
  {
   "cell_type": "markdown",
   "metadata": {},
   "source": [
    "Average median house price for each state\n",
    "\n",
    "It is noticeable that Powell,OH emerges with the highest value, standing at around USD 360,000. Greenville, SC exhibits the lowest average median property price at USD 90,000."
   ]
  },
  {
   "cell_type": "code",
   "execution_count": 221,
   "metadata": {},
   "outputs": [
    {
     "data": {
      "image/png": "[encoded data removed]",
      "text/plain": [
       "<Figure size 1152x864 with 1 Axes>"
      ]
     },
     "metadata": {
      "needs_background": "light"
     },
     "output_type": "display_data"
    }
   ],
   "source": [
    "# Select the top 5 locations\n",
    "top5_locations = zc_best5['location'].value_counts().nlargest(5).index\n",
    "\n",
    "# Filter the data for the top 5 locations\n",
    "filtered_data = zc_best5[zc_best5['location'].isin(top5_locations)]\n",
    "\n",
    "# Calculate the average median house price for April 2018 for the top 5 locations\n",
    "location_price = filtered_data.groupby('location')['2018-04'].mean().sort_values()\n",
    "\n",
    "# Plotting the average median house price by state for April 2018\n",
    "plt.figure(figsize=(16, 12))\n",
    "bars = plt.barh(location_price.index, location_price.values, color='blue')\n",
    "plt.title('Average Median House Price by Location (Top 5) - April 2018')\n",
    "plt.xlabel('Average Median House Price')\n",
    "plt.ylabel('Location')\n",
    "plt.grid(True, which=\"both\", linestyle=\"--\", color='0.65')\n",
    "\n",
    "# Add value labels on the bars\n",
    "for bar in bars:\n",
    "    plt.text(\n",
    "        bar.get_width(),\n",
    "        bar.get_y() + bar.get_height() / 2,\n",
    "        f'{bar.get_width():.2f}',\n",
    "        va='center',\n",
    "        ha='left'\n",
    "    )\n",
    "\n",
    "plt.tight_layout()\n",
    "plt.show()"
   ]
  },
  {
   "cell_type": "markdown",
   "metadata": {},
   "source": [
    "Average median house price for each state\n",
    "\n",
    "It is noticeable that Powell,OH emerges with the highest value, standing at around USD 362,900. Greenville, SC exhibits the lowest average median property price at USD 88,400."
   ]
  },
  {
   "cell_type": "markdown",
   "metadata": {},
   "source": [
    "The Average ROI for each location"
   ]
  },
  {
   "cell_type": "code",
   "execution_count": 222,
   "metadata": {},
   "outputs": [
    {
     "data": {
      "image/png": "[encoded data removed]",
      "text/plain": [
       "<Figure size 1152x864 with 1 Axes>"
      ]
     },
     "metadata": {
      "needs_background": "light"
     },
     "output_type": "display_data"
    }
   ],
   "source": [
    "# Calculate the average ROI for each location\n",
    "location_roi = zc_best5.groupby('location')['ROI'].mean().sort_values()\n",
    "\n",
    "# Filter locations based on ROI (for example, select locations with positive ROI)\n",
    "positive_roi_locations = location_roi[location_roi > 0]\n",
    "\n",
    "# Plotting the average ROI by location\n",
    "plt.figure(figsize=(16, 12))\n",
    "bars = plt.barh(positive_roi_locations.index, positive_roi_locations.values, color='blue', label='Avg ROI')\n",
    "plt.title('Average ROI by Location')\n",
    "plt.xlabel('Average ROI')\n",
    "plt.ylabel('Location')\n",
    "plt.legend()\n",
    "plt.grid(True, which=\"both\", linestyle=\"--\", color='0.65')\n",
    "\n",
    "# Add value labels on the bars\n",
    "for bar in bars:\n",
    "    plt.text(\n",
    "        bar.get_width(),\n",
    "        bar.get_y() + bar.get_height() / 2,\n",
    "        f'{bar.get_width():.2f}',\n",
    "        va='center',\n",
    "        ha='left',\n",
    "        fontsize=10,\n",
    "        color='black'\n",
    "    )\n",
    "\n",
    "plt.tight_layout()\n",
    "plt.show()"
   ]
  },
  {
   "cell_type": "markdown",
   "metadata": {},
   "source": [
    "It is noticeable that Greenville,sc emerges with the highest value, avarage ROI at 1.75. Florence, SC exhibits the lowest average ROI at 1.65."
   ]
  },
  {
   "cell_type": "code",
   "execution_count": 223,
   "metadata": {},
   "outputs": [
    {
     "data": {
      "image/png": "[encoded data removed]",
      "text/plain": [
       "<Figure size 720x432 with 1 Axes>"
      ]
     },
     "metadata": {
      "needs_background": "light"
     },
     "output_type": "display_data"
    }
   ],
   "source": [
    "# Distribution of SizeRank\n",
    "plt.figure(figsize=(10, 6))\n",
    "sns.histplot(zc_top25['SizeRank'], bins=30, kde=True)\n",
    "plt.title('Distribution of SizeRank')\n",
    "plt.xlabel('SizeRank')\n",
    "plt.ylabel('Frequency')\n",
    "plt.show()"
   ]
  },
  {
   "cell_type": "markdown",
   "metadata": {},
   "source": [
    "This histogram shows the distribution of the SizeRank variable. The SizeRank appears to be normally distributed"
   ]
  },
  {
   "cell_type": "code",
   "execution_count": 224,
   "metadata": {},
   "outputs": [
    {
     "data": {
      "image/png": "[encoded data removed]",
      "text/plain": [
       "<Figure size 720x432 with 1 Axes>"
      ]
     },
     "metadata": {
      "needs_background": "light"
     },
     "output_type": "display_data"
    }
   ],
   "source": [
    "# Distribution of Home Prices for a Specific Month (e.g., 2018-04)\n",
    "plt.figure(figsize=(10, 6))\n",
    "sns.histplot(zc_top25['2018-04'], bins=30, kde=True)\n",
    "plt.title('Distribution of Home Prices for April 2018')\n",
    "plt.xlabel('Home Prices')\n",
    "plt.ylabel('Frequency')\n",
    "plt.show()"
   ]
  },
  {
   "cell_type": "markdown",
   "metadata": {},
   "source": [
    "This histogram displays the distribution of home prices for April 2018. The distribution appears to be right-skewed, indicating that there are more lower-priced homes and fewer high-priced homes in the dataset."
   ]
  },
  {
   "cell_type": "code",
   "execution_count": 225,
   "metadata": {},
   "outputs": [
    {
     "data": {
      "text/html": [
       "<div>\n",
       "<style scoped>\n",
       "    .dataframe tbody tr th:only-of-type {\n",
       "        vertical-align: middle;\n",
       "    }\n",
       "\n",
       "    .dataframe tbody tr th {\n",
       "        vertical-align: top;\n",
       "    }\n",
       "\n",
       "    .dataframe thead th {\n",
       "        text-align: right;\n",
       "    }\n",
       "</style>\n",
       "<table border=\"1\" class=\"dataframe\">\n",
       "  <thead>\n",
       "    <tr style=\"text-align: right;\">\n",
       "      <th></th>\n",
       "      <th>ZipCode</th>\n",
       "      <th>City</th>\n",
       "      <th>State</th>\n",
       "      <th>Metro</th>\n",
       "      <th>CountyName</th>\n",
       "      <th>SizeRank</th>\n",
       "      <th>1996-04</th>\n",
       "      <th>1996-05</th>\n",
       "      <th>1996-06</th>\n",
       "      <th>1996-07</th>\n",
       "      <th>...</th>\n",
       "      <th>2017-07</th>\n",
       "      <th>2017-08</th>\n",
       "      <th>2017-09</th>\n",
       "      <th>2017-10</th>\n",
       "      <th>2017-11</th>\n",
       "      <th>2017-12</th>\n",
       "      <th>2018-01</th>\n",
       "      <th>2018-02</th>\n",
       "      <th>2018-03</th>\n",
       "      <th>2018-04</th>\n",
       "    </tr>\n",
       "  </thead>\n",
       "  <tbody>\n",
       "    <tr>\n",
       "      <th>0</th>\n",
       "      <td>60657</td>\n",
       "      <td>Chicago</td>\n",
       "      <td>IL</td>\n",
       "      <td>Chicago</td>\n",
       "      <td>Cook</td>\n",
       "      <td>1</td>\n",
       "      <td>334200.0</td>\n",
       "      <td>335400.0</td>\n",
       "      <td>336500.0</td>\n",
       "      <td>337600.0</td>\n",
       "      <td>...</td>\n",
       "      <td>1005500</td>\n",
       "      <td>1007500</td>\n",
       "      <td>1007800</td>\n",
       "      <td>1009600</td>\n",
       "      <td>1013300</td>\n",
       "      <td>1018700</td>\n",
       "      <td>1024400</td>\n",
       "      <td>1030700</td>\n",
       "      <td>1033800</td>\n",
       "      <td>1030600</td>\n",
       "    </tr>\n",
       "    <tr>\n",
       "      <th>1</th>\n",
       "      <td>75070</td>\n",
       "      <td>McKinney</td>\n",
       "      <td>TX</td>\n",
       "      <td>Dallas-Fort Worth</td>\n",
       "      <td>Collin</td>\n",
       "      <td>2</td>\n",
       "      <td>235700.0</td>\n",
       "      <td>236900.0</td>\n",
       "      <td>236700.0</td>\n",
       "      <td>235400.0</td>\n",
       "      <td>...</td>\n",
       "      <td>308000</td>\n",
       "      <td>310000</td>\n",
       "      <td>312500</td>\n",
       "      <td>314100</td>\n",
       "      <td>315000</td>\n",
       "      <td>316600</td>\n",
       "      <td>318100</td>\n",
       "      <td>319600</td>\n",
       "      <td>321100</td>\n",
       "      <td>321800</td>\n",
       "    </tr>\n",
       "    <tr>\n",
       "      <th>2</th>\n",
       "      <td>77494</td>\n",
       "      <td>Katy</td>\n",
       "      <td>TX</td>\n",
       "      <td>Houston</td>\n",
       "      <td>Harris</td>\n",
       "      <td>3</td>\n",
       "      <td>210400.0</td>\n",
       "      <td>212200.0</td>\n",
       "      <td>212200.0</td>\n",
       "      <td>210700.0</td>\n",
       "      <td>...</td>\n",
       "      <td>321000</td>\n",
       "      <td>320600</td>\n",
       "      <td>320200</td>\n",
       "      <td>320400</td>\n",
       "      <td>320800</td>\n",
       "      <td>321200</td>\n",
       "      <td>321200</td>\n",
       "      <td>323000</td>\n",
       "      <td>326900</td>\n",
       "      <td>329900</td>\n",
       "    </tr>\n",
       "    <tr>\n",
       "      <th>3</th>\n",
       "      <td>60614</td>\n",
       "      <td>Chicago</td>\n",
       "      <td>IL</td>\n",
       "      <td>Chicago</td>\n",
       "      <td>Cook</td>\n",
       "      <td>4</td>\n",
       "      <td>498100.0</td>\n",
       "      <td>500900.0</td>\n",
       "      <td>503100.0</td>\n",
       "      <td>504600.0</td>\n",
       "      <td>...</td>\n",
       "      <td>1289800</td>\n",
       "      <td>1287700</td>\n",
       "      <td>1287400</td>\n",
       "      <td>1291500</td>\n",
       "      <td>1296600</td>\n",
       "      <td>1299000</td>\n",
       "      <td>1302700</td>\n",
       "      <td>1306400</td>\n",
       "      <td>1308500</td>\n",
       "      <td>1307000</td>\n",
       "    </tr>\n",
       "    <tr>\n",
       "      <th>4</th>\n",
       "      <td>79936</td>\n",
       "      <td>El Paso</td>\n",
       "      <td>TX</td>\n",
       "      <td>El Paso</td>\n",
       "      <td>El Paso</td>\n",
       "      <td>5</td>\n",
       "      <td>77300.0</td>\n",
       "      <td>77300.0</td>\n",
       "      <td>77300.0</td>\n",
       "      <td>77300.0</td>\n",
       "      <td>...</td>\n",
       "      <td>119100</td>\n",
       "      <td>119400</td>\n",
       "      <td>120000</td>\n",
       "      <td>120300</td>\n",
       "      <td>120300</td>\n",
       "      <td>120300</td>\n",
       "      <td>120300</td>\n",
       "      <td>120500</td>\n",
       "      <td>121000</td>\n",
       "      <td>121500</td>\n",
       "    </tr>\n",
       "  </tbody>\n",
       "</table>\n",
       "<p>5 rows × 271 columns</p>\n",
       "</div>"
      ],
      "text/plain": [
       "  ZipCode      City State              Metro CountyName  SizeRank   1996-04  \\\n",
       "0   60657   Chicago    IL            Chicago       Cook         1  334200.0   \n",
       "1   75070  McKinney    TX  Dallas-Fort Worth     Collin         2  235700.0   \n",
       "2   77494      Katy    TX            Houston     Harris         3  210400.0   \n",
       "3   60614   Chicago    IL            Chicago       Cook         4  498100.0   \n",
       "4   79936   El Paso    TX            El Paso    El Paso         5   77300.0   \n",
       "\n",
       "    1996-05   1996-06   1996-07  ...  2017-07  2017-08  2017-09  2017-10  \\\n",
       "0  335400.0  336500.0  337600.0  ...  1005500  1007500  1007800  1009600   \n",
       "1  236900.0  236700.0  235400.0  ...   308000   310000   312500   314100   \n",
       "2  212200.0  212200.0  210700.0  ...   321000   320600   320200   320400   \n",
       "3  500900.0  503100.0  504600.0  ...  1289800  1287700  1287400  1291500   \n",
       "4   77300.0   77300.0   77300.0  ...   119100   119400   120000   120300   \n",
       "\n",
       "   2017-11  2017-12  2018-01  2018-02  2018-03  2018-04  \n",
       "0  1013300  1018700  1024400  1030700  1033800  1030600  \n",
       "1   315000   316600   318100   319600   321100   321800  \n",
       "2   320800   321200   321200   323000   326900   329900  \n",
       "3  1296600  1299000  1302700  1306400  1308500  1307000  \n",
       "4   120300   120300   120300   120500   121000   121500  \n",
       "\n",
       "[5 rows x 271 columns]"
      ]
     },
     "execution_count": 225,
     "metadata": {},
     "output_type": "execute_result"
    }
   ],
   "source": [
    "# Create copy of df to calculate ROIs\n",
    "roi_df = df.copy()\n",
    "roi_df.head()"
   ]
  },
  {
   "cell_type": "code",
   "execution_count": 226,
   "metadata": {},
   "outputs": [
    {
     "data": {
      "text/plain": [
       "Index(['ZipCode', 'City', 'State', 'Metro', 'CountyName', 'SizeRank',\n",
       "       '1996-04', '1996-05', '1996-06', '1996-07',\n",
       "       ...\n",
       "       'ROI', 'std', 'mean', 'CV', 'location', 'ROI_allyr', 'ROI_20yr',\n",
       "       'ROI_10yr', 'ROI_5yr', 'ROI_3yr'],\n",
       "      dtype='object', length=281)"
      ]
     },
     "execution_count": 226,
     "metadata": {},
     "output_type": "execute_result"
    }
   ],
   "source": [
    "zc_best5.columns"
   ]
  },
  {
   "cell_type": "markdown",
   "metadata": {},
   "source": [
    "2.2 BIVARIATE ANALYSIS"
   ]
  },
  {
   "cell_type": "code",
   "execution_count": null,
   "metadata": {},
   "outputs": [
    {
     "data": {
      "image/png": "[encoded data removed]",
      "text/plain": [
       "<Figure size 720x432 with 1 Axes>"
      ]
     },
     "metadata": {
      "needs_background": "light"
     },
     "output_type": "display_data"
    }
   ],
   "source": [
    "# Scatter plot of SizeRank vs Home Prices (April 2018)\n",
    "plt.figure(figsize=(10, 6))\n",
    "sns.scatterplot(x='SizeRank', y='2018-04', data=zc_top25)\n",
    "plt.title('SizeRank vs Home Prices (April 2018)')\n",
    "plt.xlabel('SizeRank')\n",
    "plt.ylabel('Home Prices')\n",
    "plt.show()"
   ]
  },
  {
   "cell_type": "markdown",
   "metadata": {},
   "source": [
    "This scatter plot shows the relationship between SizeRank and home prices for April 2018. There appears to be a negative correlation, indicating that regions with a lower SizeRank (larger regions) tend to have higher home prices."
   ]
  },
  {
   "cell_type": "code",
   "execution_count": null,
   "metadata": {},
   "outputs": [
    {
     "data": {
      "image/png": "[encoded data removed]",
      "text/plain": [
       "<Figure size 864x720 with 2 Axes>"
      ]
     },
     "metadata": {
      "needs_background": "light"
     },
     "output_type": "display_data"
    }
   ],
   "source": [
    "# Correlation heatmap for the last 12 months\n",
    "last_12_months = zc_top25.iloc[:, -12:]\n",
    "corr_matrix = last_12_months.corr()\n",
    "\n",
    "plt.figure(figsize=(12, 10))\n",
    "sns.heatmap(corr_matrix, annot=True, cmap='coolwarm', linewidths=0.5)\n",
    "plt.title('Correlation Heatmap of Home Prices (Last 12 Months)')\n",
    "plt.show()"
   ]
  },
  {
   "cell_type": "markdown",
   "metadata": {},
   "source": [
    "This heatmap displays the correlation between home prices over the last 12 months. The high correlation values indicate that home prices are strongly correlated over time, which is expected."
   ]
  },
  {
   "cell_type": "code",
   "execution_count": null,
   "metadata": {},
   "outputs": [
    {
     "data": {
      "image/png": "[encoded data removed]",
      "text/plain": [
       "<Figure size 1080x864 with 1 Axes>"
      ]
     },
     "metadata": {
      "needs_background": "light"
     },
     "output_type": "display_data"
    }
   ],
   "source": [
    "# Box plot of home prices by state (using April 2018 data)\n",
    "plt.figure(figsize=(15, 12))\n",
    "sns.boxplot(x='State', y='2018-04', data=zc_top25)\n",
    "plt.title('Home Prices by State (April 2018)')\n",
    "plt.xlabel('State')\n",
    "plt.ylabel('Home Prices')\n",
    "plt.xticks(rotation=90)\n",
    "plt.show()"
   ]
  },
  {
   "cell_type": "markdown",
   "metadata": {},
   "source": [
    "This box plot shows the distribution of home prices by state for April 2018. There is significant variation in home prices across different states, with some states having much higher median home prices than others."
   ]
  },
  {
   "cell_type": "code",
   "execution_count": null,
   "metadata": {},
   "outputs": [
    {
     "data": {
      "image/png": "[encoded data removed]",
      "text/plain": [
       "<Figure size 1152x720 with 1 Axes>"
      ]
     },
     "metadata": {
      "needs_background": "light"
     },
     "output_type": "display_data"
    }
   ],
   "source": [
    "# Box plots of ROI by location\n",
    "# Create a box plot for price across different States\n",
    "plt.figure(figsize=(16, 10))\n",
    "sns.boxplot(x=melted_df['location'], y=melted_df['price'])\n",
    "plt.title('Box plot of Value across Different Location')\n",
    "plt.xlabel('location')\n",
    "plt.ylabel('price')\n",
    "plt.xticks(rotation=45)\n",
    "plt.tight_layout()\n",
    "plt.show()"
   ]
  },
  {
   "cell_type": "markdown",
   "metadata": {},
   "source": [
    "The box plot displays the distribution of property prices across different locations, highlighting variations in central tendency and spread. Notably, powell, oH exhibits the highest median property prices with significant variability and several high-value outliers, indicating a wide range of property values. North Decaatur, GA and Corpus Christi, TX show moderate median prices with considerable spread, suggesting diverse property values. Florence, SC and Greenville, SC have the lowest median prices, with relatively consistent property values, indicated by narrower interquartile ranges and fewer outliers. Overall, the box plot reveals significant differences in property price distributions among the locations, with Powell,OH demonstrating the highest prices and variability, the distrution is right skewed"
   ]
  },
  {
   "cell_type": "code",
   "execution_count": null,
   "metadata": {},
   "outputs": [
    {
     "data": {
      "image/png": "[encoded data removed]",
      "text/plain": [
       "<Figure size 1152x864 with 1 Axes>"
      ]
     },
     "metadata": {
      "needs_background": "light"
     },
     "output_type": "display_data"
    }
   ],
   "source": [
    "# Calculate mean CV and ROI for each location\n",
    "unique_regions = zc_best5['location'].unique()\n",
    "cv_values = zc_best5.groupby('location')['CV'].mean().reindex(unique_regions).values\n",
    "roi_values = zc_best5.groupby('location')['ROI'].mean().reindex(unique_regions).values\n",
    "\n",
    "# Set up positions for the bars\n",
    "x = np.arange(len(unique_regions))\n",
    "width = 0.4\n",
    "\n",
    "# Create the bar graph\n",
    "plt.figure(figsize=(16, 12))\n",
    "bar1 = plt.bar(x - width/2, cv_values, width, label='CV', color='skyblue')\n",
    "bar2 = plt.bar(x + width/2, roi_values, width, label='ROI', color='lightcoral')\n",
    "plt.xlabel('Regions')\n",
    "plt.ylabel('Mean Value')\n",
    "plt.title('Mean CV and ROI for Different Regions')\n",
    "plt.xticks(x, unique_regions, rotation=45)\n",
    "plt.legend()\n",
    "plt.tight_layout()\n",
    "\n",
    "# Add value labels on the bars\n",
    "for bar in bar1:\n",
    "    height = bar.get_height()\n",
    "    plt.text(\n",
    "        bar.get_x() + bar.get_width() / 2,\n",
    "        height,\n",
    "        f'{height:.2f}',\n",
    "        ha='center',\n",
    "        va='bottom',\n",
    "        fontsize=10,\n",
    "        color='black'\n",
    "    )\n",
    "\n",
    "for bar in bar2:\n",
    "    height = bar.get_height()\n",
    "    plt.text(\n",
    "        bar.get_x() + bar.get_width() / 2,\n",
    "        height,\n",
    "        f'{height:.2f}',\n",
    "        ha='center',\n",
    "        va='bottom',\n",
    "        fontsize=10,\n",
    "        color='black'\n",
    "    )\n",
    "\n",
    "plt.show()"
   ]
  },
  {
   "cell_type": "markdown",
   "metadata": {},
   "source": [
    "The graph consistently shows that the mean ROI values are higher than the mean CV values across all regions, indicating that ROI is generally more prominent than CV in the dataset."
   ]
  },
  {
   "cell_type": "code",
   "execution_count": null,
   "metadata": {},
   "outputs": [
    {
     "data": {
      "image/png": "[encoded data removed]",
      "text/plain": [
       "<Figure size 1152x576 with 1 Axes>"
      ]
     },
     "metadata": {
      "needs_background": "light"
     },
     "output_type": "display_data"
    }
   ],
   "source": [
    "# Plotting the distribution of median house prices from the sample data\n",
    "plt.figure(figsize=(16, 8))\n",
    "sns.histplot(melted_df['price'], bins=50, kde=True, color='green')\n",
    "plt.title('Distribution of Average Median House Prices')\n",
    "plt.xlabel('Average Median House Price')\n",
    "plt.ylabel('Frequency')\n",
    "plt.grid(True, which=\"both\", ls=\"--\", c='0.65')\n",
    "plt.tight_layout()\n",
    "plt.show()"
   ]
  },
  {
   "cell_type": "markdown",
   "metadata": {},
   "source": [
    "The histogram with a KDE curve displays the distribution of average median house prices, revealing a right-skewed pattern with most properties priced between $50,000 and $150,000, and a gradual decline in frequency as prices increase."
   ]
  }
 ],
 "metadata": {
  "kernelspec": {
   "display_name": "base",
   "language": "python",
   "name": "python3"
  },
  "language_info": {
   "codemirror_mode": {
    "name": "ipython",
    "version": 3
   },
   "file_extension": ".py",
   "mimetype": "text/x-python",
   "name": "python",
   "nbconvert_exporter": "python",
   "pygments_lexer": "ipython3",
   "version": "3.8.5"
  }
 },
 "nbformat": 4,
 "nbformat_minor": 2
}
